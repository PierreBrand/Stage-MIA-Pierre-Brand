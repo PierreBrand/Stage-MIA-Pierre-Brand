{
 "cells": [
  {
   "cell_type": "code",
   "execution_count": 1,
   "metadata": {},
   "outputs": [],
   "source": [
    "import numpy as np\n",
    "import matplotlib.pyplot as plt\n",
    "import numpy.random as rd\n",
    "import numpy.linalg as nla\n",
    "import pandas as pnd\n",
    "import sklearn.covariance as sklc\n",
    "\n",
    "import sys\n",
    "sys.path.append(\"C:/Users/pierr/OneDrive/Bureau/Dossier en haut à droite/Stage MIA 2023/Codes/Libraries\")\n",
    "import Fonctions as fc\n",
    "import timeit as ti"
   ]
  },
  {
   "cell_type": "code",
   "execution_count": 2,
   "metadata": {},
   "outputs": [],
   "source": [
    "N_tab = list(2**np.arange(4,11))\n",
    "D_tab = list(2**np.arange(2,9))\n",
    "K_tab = list(2**np.arange(1,8))\n",
    "\n",
    "N1 = 512\n",
    "N2 = 1024\n",
    "D2 = 8\n",
    "K1 = 8\n",
    "K2 = 4\n",
    "L1 = 4\n",
    "\n",
    "eps = 0.001\n",
    "nb_tries = 10\n",
    "p = 0.1"
   ]
  },
  {
   "cell_type": "markdown",
   "metadata": {},
   "source": [
    "# Simulation des données"
   ]
  },
  {
   "cell_type": "markdown",
   "metadata": {},
   "source": [
    "#### Variation selon N"
   ]
  },
  {
   "cell_type": "code",
   "execution_count": 3,
   "metadata": {},
   "outputs": [],
   "source": [
    "N_data_sets = [[] for N in N_tab]\n",
    "\n",
    "for N in N_tab :\n",
    "    n = N_tab.index(N)\n",
    "    for t in range(nb_tries):\n",
    "        \n",
    "        thetas = fc.sim_param_obsmix_1(K1,D2,L1,s3=0.5)\n",
    "        Z, omega, Y = fc.sim_data_obsmix_1(thetas,N)\n",
    "        N_data_sets[n].append([Z,Y])\n",
    "        N_omega_sets[n].append(omega)"
   ]
  },
  {
   "cell_type": "markdown",
   "metadata": {},
   "source": [
    "#### Variation selon D"
   ]
  },
  {
   "cell_type": "code",
   "execution_count": 4,
   "metadata": {},
   "outputs": [],
   "source": [
    "D_data_sets = [[] for D in D_tab]\n",
    "\n",
    "for D in D_tab :\n",
    "    d = D_tab.index(D)\n",
    "    for t in range(nb_tries):\n",
    "        \n",
    "        thetas = fc.sim_param_obsmix_1(K2,D,L1,s3=0.5)\n",
    "        Z, omega, Y = fc.sim_data_obsmix_1(thetas,N1)\n",
    "        D_data_sets[d].append([Z,Y])\n",
    "        D_omega_sets[d].append(omega)"
   ]
  },
  {
   "cell_type": "markdown",
   "metadata": {},
   "source": [
    "#### Variation selon K"
   ]
  },
  {
   "cell_type": "code",
   "execution_count": 88,
   "metadata": {},
   "outputs": [],
   "source": [
    "K_data_sets = [[] for K in K_tab]\n",
    "\n",
    "for K in K_tab :\n",
    "    k = K_tab.index(K)\n",
    "    for t in range(nb_tries):\n",
    "        \n",
    "        thetas = fc.sim_param_obsmix_1(K,D2,L1,s3=0.5)\n",
    "        Z, omega, Y = fc.sim_data_obsmix_1(thetas,N2)\n",
    "        K_data_sets[k].append([Z,Y])\n",
    "        K_omega_sets[k].append(omega)"
   ]
  },
  {
   "cell_type": "markdown",
   "metadata": {},
   "source": [
    "# Chronométrage"
   ]
  },
  {
   "cell_type": "markdown",
   "metadata": {},
   "source": [
    "#### Variation selon N"
   ]
  },
  {
   "cell_type": "code",
   "execution_count": 10,
   "metadata": {},
   "outputs": [],
   "source": [
    "N_SL_timeits = [ti.timeit(\"[fc.HAC_SL(N_data_sets[\"+str(n)+\"][t][1],K1,tempo=False) for t in range(nb_tries)]\",number=1,globals=globals()) for n in range(7)]\n"
   ]
  },
  {
   "cell_type": "code",
   "execution_count": 12,
   "metadata": {},
   "outputs": [],
   "source": [
    "N_CL_timeits = [ti.timeit(\"[fc.HAC_CL(N_data_sets[\"+str(n)+\"][t][1],K1,tempo=False) for t in range(nb_tries)]\",number=1,globals=globals()) for n in range(7)]\n"
   ]
  },
  {
   "cell_type": "code",
   "execution_count": 14,
   "metadata": {},
   "outputs": [],
   "source": [
    "N_AL_timeits = [ti.timeit(\"[fc.HAC_AL(N_data_sets[\"+str(n)+\"][t][1],K1,tempo=False) for t in range(nb_tries)]\",number=1,globals=globals()) for n in range(7)]\n"
   ]
  },
  {
   "cell_type": "code",
   "execution_count": 16,
   "metadata": {},
   "outputs": [],
   "source": [
    "N_Ward_timeits = [ti.timeit(\"[fc.HAC_Ward(N_data_sets[\"+str(n)+\"][t][1],K1,tempo=False) for t in range(nb_tries)]\",number=1,globals=globals()) for n in range(7)]\n"
   ]
  },
  {
   "cell_type": "code",
   "execution_count": 18,
   "metadata": {},
   "outputs": [],
   "source": [
    "N_FPC_timeits = [ti.timeit(\"[fc.K_means_FPC(N_data_sets[\"+str(n)+\"][t][1],K1,nb_steps=50,tempo=False) for t in range(nb_tries)]\",number=1,globals=globals()) for n in range(7)]\n"
   ]
  },
  {
   "cell_type": "code",
   "execution_count": 20,
   "metadata": {},
   "outputs": [],
   "source": [
    "N_Lapras_timeits = [ti.timeit(\"[fc.Lapras(N_data_sets[\"+str(n)+\"][t][1],K1,nb_steps=50,tempo=False) for t in range(nb_tries)]\",number=1,globals=globals()) for n in range(7)]\n"
   ]
  },
  {
   "cell_type": "markdown",
   "metadata": {},
   "source": [
    "#### Variation selon D"
   ]
  },
  {
   "cell_type": "code",
   "execution_count": 24,
   "metadata": {},
   "outputs": [],
   "source": [
    "D_SL_timeits = [ti.timeit(\"[fc.HAC_SL(D_data_sets[\"+str(d)+\"][t][1],K1,tempo=False) for t in range(nb_tries)]\",number=1,globals=globals()) for d in range(7)]\n"
   ]
  },
  {
   "cell_type": "code",
   "execution_count": 26,
   "metadata": {},
   "outputs": [],
   "source": [
    "D_CL_timeits = [ti.timeit(\"[fc.HAC_CL(D_data_sets[\"+str(d)+\"][t][1],K1,tempo=False) for t in range(nb_tries)]\",number=1,globals=globals()) for d in range(7)]\n"
   ]
  },
  {
   "cell_type": "code",
   "execution_count": 28,
   "metadata": {},
   "outputs": [],
   "source": [
    "D_AL_timeits = [ti.timeit(\"[fc.HAC_AL(D_data_sets[\"+str(d)+\"][t][1],K1,tempo=False) for t in range(nb_tries)]\",number=1,globals=globals()) for d in range(7)]\n"
   ]
  },
  {
   "cell_type": "code",
   "execution_count": 30,
   "metadata": {},
   "outputs": [],
   "source": [
    "D_Ward_timeits = [ti.timeit(\"[fc.HAC_Ward(D_data_sets[\"+str(d)+\"][t][1],K1,tempo=False) for t in range(nb_tries)]\",number=1,globals=globals()) for d in range(7)]\n"
   ]
  },
  {
   "cell_type": "code",
   "execution_count": 32,
   "metadata": {},
   "outputs": [],
   "source": [
    "D_FPC_timeits = [ti.timeit(\"[fc.K_means_FPC(D_data_sets[\"+str(d)+\"][t][1],K1,nb_steps=50,tempo=False) for t in range(nb_tries)]\",number=1,globals=globals()) for d in range(7)]\n"
   ]
  },
  {
   "cell_type": "code",
   "execution_count": 34,
   "metadata": {},
   "outputs": [],
   "source": [
    "D_Lapras_timeits = [ti.timeit(\"[fc.Lapras(D_data_sets[\"+str(d)+\"][t][1],K1,nb_steps=50,tempo=False) for t in range(nb_tries)]\",number=1,globals=globals()) for d in range(7)]\n"
   ]
  },
  {
   "cell_type": "markdown",
   "metadata": {},
   "source": [
    "#### Variation selon K"
   ]
  },
  {
   "cell_type": "code",
   "execution_count": null,
   "metadata": {},
   "outputs": [],
   "source": [
    "K_SL_timeits = [ti.timeit(\"[fc.HAC_SL(K_data_sets[\"+str(k)+\"][t][1],K_tab[\"+str(k)+\"],tempo=False) for t in range(nb_tries)]\",number=1,globals=globals()) for k in range(7)]\n"
   ]
  },
  {
   "cell_type": "code",
   "execution_count": null,
   "metadata": {},
   "outputs": [],
   "source": [
    "K_CL_timeits = [ti.timeit(\"[fc.HAC_CL(K_data_sets[\"+str(k)+\"][t][1],K_tab[\"+str(k)+\"],tempo=False) for t in range(nb_tries)]\",number=1,globals=globals()) for k in range(7)]\n"
   ]
  },
  {
   "cell_type": "code",
   "execution_count": null,
   "metadata": {},
   "outputs": [],
   "source": [
    "K_AL_timeits = [ti.timeit(\"[fc.HAC_AL(K_data_sets[\"+str(k)+\"][t][1],K_tab[\"+str(k)+\"],tempo=False) for t in range(nb_tries)]\",number=1,globals=globals()) for k in range(7)]\n"
   ]
  },
  {
   "cell_type": "code",
   "execution_count": null,
   "metadata": {},
   "outputs": [],
   "source": [
    "K_Ward_timeits = [ti.timeit(\"[fc.HAC_Ward(K_data_sets[\"+str(k)+\"][t][1],K_tab[\"+str(k)+\"],tempo=False) for t in range(nb_tries)]\",number=1,globals=globals()) for k in range(7)]\n"
   ]
  },
  {
   "cell_type": "code",
   "execution_count": null,
   "metadata": {},
   "outputs": [],
   "source": [
    "K_FPC_timeits = [ti.timeit(\"[fc.K_means_FPC(K_data_sets[\"+str(k)+\"][t][1],K_tab[\"+str(k)+\"],nb_steps=50,tempo=False) for t in range(nb_tries)]\",number=1,globals=globals()) for k in range(7)]\n"
   ]
  },
  {
   "cell_type": "code",
   "execution_count": null,
   "metadata": {},
   "outputs": [],
   "source": [
    "K_Lapras_timeits = [ti.timeit(\"[fc.Lapras(K_data_sets[\"+str(k)+\"][t][1],K_tab[\"+str(k)+\"],nb_steps=50,tempo=False) for t in range(nb_tries)]\",number=1,globals=globals()) for k in range(7)]\n"
   ]
  },
  {
   "cell_type": "markdown",
   "metadata": {},
   "source": [
    "# Régressions linéaires"
   ]
  },
  {
   "cell_type": "code",
   "execution_count": null,
   "metadata": {},
   "outputs": [],
   "source": [
    "timelists = [N_SL_timeits, N_CL_timeits, N_AL_timeits, N_Ward_timeits, N_FPC_timeits, N_Lapras_timeits,\n",
    "             D_SL_timeits, D_CL_timeits, D_AL_timeits, D_Ward_timeits, D_FPC_timeits, D_Lapras_timeits,\n",
    "             K_SL_timeits, K_CL_timeits, K_AL_timeits, K_Ward_timeits, K_FPC_timeits, K_Lapras_timeits]"
   ]
  },
  {
   "cell_type": "code",
   "execution_count": null,
   "metadata": {},
   "outputs": [],
   "source": [
    "alist = []\n",
    "blist = []\n",
    "varlist = ['N','D','K']\n",
    "funlist = ['HAC_SL','HAC_CL','HAC_AL','HAC_Ward','K_means_FPC','Lapras']\n",
    "starts = [4,3,0,1,0]"
   ]
  },
  {
   "cell_type": "code",
   "execution_count": null,
   "metadata": {},
   "outputs": [],
   "source": [
    "for tlist in timelists :\n",
    "    \n",
    "    #Régression linéaire\n",
    "    n = len(tlist)\n",
    "    ind_list = timelists.index(tlist)\n",
    "    ind_var = int(ind_list/6)\n",
    "    ind_fun = ind_list%6\n",
    "    \n",
    "    x = np.arange(starts[ind_var],starts[ind_var]+n)\n",
    "    y = np.log(np.array(tlist))/np.log(2)\n",
    "    cov = np.mean(x*y)- np.mean(x)*np.mean(y)\n",
    "    a = cov/np.var(x)\n",
    "    b = np.mean(y) - a*np.mean(x)\n",
    "    alist.append(a)\n",
    "    blist.append(b)\n",
    "    \n",
    "    #Représentation graphique\n",
    "    plt.figure()\n",
    "    \n",
    "    plt.scatter(x,y)\n",
    "    plt.plot([x[0],x[n-1]],[a*x[0]+b,a*x[n-1]+b],label='Régression linéaire')\n",
    "    \n",
    "    plt.xlabel('$\\log_2('+str(varlist[ind_var])+')$')\n",
    "    plt.ylabel('$\\log_2(t)$')\n",
    "    \n",
    "    plt.title(\"Variation du temps d'éxécution de la fonction \"+funlist[ind_fun]+\" en fonction du paramètre \"+varlist[ind_var])\n",
    "    plt.legend()\n",
    "    plt.savefig('log(t)_'+funlist[ind_fun]+'_'+varlist[ind_var]+'.png')\n",
    "    \n",
    "    \n",
    "    plt.show()"
   ]
  },
  {
   "cell_type": "code",
   "execution_count": null,
   "metadata": {},
   "outputs": [],
   "source": []
  }
 ],
 "metadata": {
  "kernelspec": {
   "display_name": "Python 3",
   "language": "python",
   "name": "python3"
  },
  "language_info": {
   "codemirror_mode": {
    "name": "ipython",
    "version": 3
   },
   "file_extension": ".py",
   "mimetype": "text/x-python",
   "name": "python",
   "nbconvert_exporter": "python",
   "pygments_lexer": "ipython3",
   "version": "3.8.3"
  }
 },
 "nbformat": 4,
 "nbformat_minor": 4
}
